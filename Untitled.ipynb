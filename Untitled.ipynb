{
 "cells": [
  {
   "cell_type": "code",
   "execution_count": 7,
   "metadata": {
    "collapsed": true
   },
   "outputs": [],
   "source": [
    "import requests\n",
    "import json\n",
    "\n",
    "from datetime import datetime, timedelta\n",
    "from readability import Document"
   ]
  },
  {
   "cell_type": "code",
   "execution_count": 39,
   "metadata": {
    "collapsed": false
   },
   "outputs": [],
   "source": [
    "API_URL = 'https://hacker-news.firebaseio.com/v0/item/{}.json?print=pretty'\n",
    "res = requests.get('https://hacker-news.firebaseio.com/v0/maxitem.json?print=pretty')\n",
    "max_id = int(res.text)"
   ]
  },
  {
   "cell_type": "code",
   "execution_count": 10,
   "metadata": {
    "collapsed": true
   },
   "outputs": [],
   "source": [
    "data = dict()"
   ]
  },
  {
   "cell_type": "code",
   "execution_count": 56,
   "metadata": {
    "collapsed": true
   },
   "outputs": [],
   "source": [
    "def traverse_comments(ids, result):\n",
    "    if not ids:\n",
    "        return\n",
    "    for id in ids:\n",
    "        res = json.loads(requests.get(API_URL.format(id)).text)\n",
    "        if not res.get('deleted'):\n",
    "            result.append(res['text'])\n",
    "        traverse_comments(res.get('kids'), result)\n"
   ]
  },
  {
   "cell_type": "code",
   "execution_count": 67,
   "metadata": {
    "collapsed": true
   },
   "outputs": [],
   "source": [
    "def get_text(url):\n",
    "    try:\n",
    "        return Document(requests.get(url).text).summary()\n",
    "    except Exception:\n",
    "        return 'UNAVAILABLE TEXT BY URL {}'.format(url)\n",
    "    "
   ]
  },
  {
   "cell_type": "code",
   "execution_count": null,
   "metadata": {
    "collapsed": false
   },
   "outputs": [
    {
     "name": "stdout",
     "output_type": "stream",
     "text": [
      "{'id': 15431350, 'score': 3, 'descendants': 0, 'type': 'story', 'by': 'yabatopia', 'title': 'Tech companies are embarrassing themselves with how they handle fake news', 'url': 'http://www.businessinsider.com/tech-companies-are-embarrassing-themselves-with-how-they-handle-fake-news-2017-10', 'time': 1507518762}\n",
      "{'id': 15431347, 'score': 1, 'dead': True, 'time': 1507518670, 'type': 'story', 'by': 'azamsharp123', 'title': 'Grab a copy of *free* ARKit development book', 'url': 'https://gum.co/QOIq/ilovear'}\n",
      "{'id': 15431331, 'score': 2, 'descendants': 0, 'type': 'story', 'by': 'tsaoutourpants', 'title': 'YouTube Removes Videos Showing Legal “Bump Stocks” After Vegas Shooting', 'url': 'https://professional-troublemaker.com/2017/10/08/youtube-removes-gun-videos-showing-legal-bump-stocks-after-vegas-shooting/', 'time': 1507518386}\n",
      "{'id': 15431330, 'score': 2, 'descendants': 0, 'type': 'story', 'by': 'dvt', 'title': 'Create a Forum Engine in 15 Minutes Using Meteor and AngularJS', 'url': 'https://www.codementor.io/tibi/build-forum-engine-using-meteor-angularjs-du107z6nu', 'time': 1507518381}\n",
      "{'id': 15431327, 'score': 2, 'dead': True, 'time': 1507518289, 'type': 'story', 'kids': [15431518], 'by': 'DLay', 'title': 'After the check is gone', 'url': 'http://www.washingtonpost.com/sf/local/2017/10/06/her-disability-check-was-gone-and-now-the-only-option-left-was-also-one-of-the-worst/?tid=sm_tw&utm_term=.edc1b277791b'}\n",
      "{'id': 15431325, 'score': 1, 'descendants': 0, 'type': 'story', 'by': 'justinucd', 'title': 'The crypto nightmare to come', 'url': 'https://hackernoon.com/the-crypto-nightmare-to-come-17b985271ef9', 'time': 1507518236}\n",
      "{'id': 15431317, 'score': 5, 'descendants': 1, 'type': 'story', 'kids': [15431484], 'by': 'ajschrier', 'title': 'Is it true that iPhones get slower over time?', 'url': 'https://www.futuremark.com/pressreleases/is-it-true-that-iphones-get-slower-over-time', 'time': 1507518018}\n",
      "{'id': 15431308, 'score': 3, 'descendants': 0, 'type': 'story', 'by': 'bfung', 'title': 'Why Aren’t Wages Rising Faster Now That Unemployment Is Lower?', 'url': 'https://www.nytimes.com/interactive/2017/10/07/business/wages-versus-unemployment.html?mabReward=ART_ACTM2&recid=0ugw7AAciMITcWhiCkY1hqdfgwc&recp=0&moduleDetail=recommendations-0&action=click&contentCollection=Business%20Day&region=Footer&module=WhatsNext&version=WhatsNext&contentID=WhatsNext&src=recg&pgtype=article', 'time': 1507517982}\n",
      "{'id': 15431297, 'score': 1, 'descendants': 0, 'type': 'story', 'by': 'jinqueeny', 'title': 'Curing the incurable', 'url': 'https://techcrunch.com/2017/10/08/curing-the-incurable/', 'time': 1507517827}\n",
      "{'id': 15431288, 'score': 1, 'dead': True, 'time': 1507517665, 'type': 'story', 'by': 'Golangprograms', 'title': 'Go programing language', 'url': 'http://www.golangprograms.com/go-language.html'}\n",
      "{'id': 15431276, 'score': 1, 'dead': True, 'text': 'We applied a week before the deadline. Our video has had no views, and there are no hits to our website. Is this indicative? I would be interested to hear other other applicants results', 'type': 'story', 'by': 'luca343g', 'title': 'Ask HN: Has your YC application had any views/hits', 'time': 1507517476}\n",
      "{'id': 15431270, 'score': 1, 'dead': True, 'time': 1507517350, 'type': 'story', 'by': 'dvdfabbookmark', 'title': 'Best Blu-Ray Creators with GPU Acceleration', 'url': 'https://www.dvdfab.cn/resource/dvd/best-blu-ray-creators-with-gpu-acceleration'}\n",
      "{'id': 15431268, 'score': 2, 'descendants': 0, 'type': 'story', 'by': 'imartin2k', 'title': 'How Europe’s Last Dictatorship Became a Tech Hub', 'url': 'https://www.nytimes.com/2017/10/05/world/europe/belarus-minsk-technology.html', 'time': 1507517322}\n",
      "{'id': 15431246, 'score': 2, 'descendants': 0, 'type': 'story', 'by': 'jonbaer', 'title': 'This startup wants to clear cities of cigarette butts using crows', 'url': 'https://thenextweb.com/artificial-intelligence/2017/10/06/1082787/', 'time': 1507516932}\n",
      "{'id': 15431242, 'score': 2, 'descendants': 0, 'type': 'story', 'by': 'jonbaer', 'title': 'Google to use balloons to provide Puerto Rico cell service', 'url': 'http://www.reuters.com/article/us-usa-puertorico-cellular/google-to-use-balloons-to-provide-puerto-rico-cell-service-idUSKBN1CC02F', 'time': 1507516825}\n",
      "{'id': 15431233, 'score': 2, 'descendants': 0, 'type': 'story', 'by': 'dpc94', 'title': 'CppCon 2017: “When a Microsecond Is an Eternity”', 'url': 'https://www.youtube.com/watch?v=NH1Tta7purM&feature=youtu.be', 'time': 1507516733}\n",
      "{'id': 15431208, 'score': 21, 'time': 1507516174, 'descendants': 9, 'type': 'story', 'kids': [15433230, 15433652, 15432235, 15432863, 15433154, 15432728, 15431551, 15431653, 15433192], 'by': 'pcjunkie', 'title': \"I program for a living and I'm addicted to the internet. Help\", 'text': 'Over the past few years I&#x27;ve grown to see my internet use as an addiction. It&#x27;s compulsive, it&#x27;s not just social media, it&#x27;s just the act of shoveling information into my brain. Novelty. Click. Read. Click. Read.<p>I&#x27;ve also discovered that it&#x27;s having a negative effect on my ability to focus. I used to read a book a week. I haven&#x27;t read a book since I got a smartphone. I can&#x27;t.<p>Anytime I&#x27;ve done a full computer detox I feel better within a week. My sleep schedule normalizes. My focus lengthens. My brain gets quieter and less compulsive. Time with friends and loved ones becomes deeper.<p>But I love coding. And I love programming for a living. And I love programming side projects. Programming isn&#x27;t really the problem. It&#x27;s a productiv focused creative act that also provides me a good living.<p>But programming takes place on the internet pretty much. It&#x27;s ever present.<p>I&#x27;m thinking about going internet free at home. No wifi. No smartphone. Just access to the internet while programming at work.<p>Any tried something similar?'}\n",
      "{'id': 15431193, 'score': 1, 'descendants': 0, 'type': 'story', 'by': 'pm24601', 'title': 'Mayor in Puerto Rico calls for FEMA help. FEMA is “filtering [her] out.”', 'url': 'https://www.vox.com/policy-and-politics/2017/10/8/16444566/trump-fema-director-brock-long-san-juan-mayor-carmen-yulin-cruz', 'time': 1507515795}\n",
      "{'id': 15431184, 'score': 4, 'descendants': 0, 'type': 'story', 'by': 'yeldarb', 'title': 'Behind the Magic: How We Built the ARKit Sudoku Solver with Machine Learning', 'url': 'https://medium.com/@braddwyer/behind-the-magic-how-we-built-the-arkit-sudoku-solver-e586e5b685b0', 'time': 1507515672}\n",
      "{'id': 15431176, 'score': 119, 'descendants': 34, 'type': 'story', 'kids': [15431451, 15432438, 15432705, 15431573, 15433979, 15431479, 15434023, 15435414, 15434061, 15431706, 15431612, 15432704, 15433877], 'by': 'Petiver', 'title': '“Peer review” is younger than we think', 'url': 'http://sappingattention.blogspot.com/2017/09/peer-review-is-younger-than-you-think.html', 'time': 1507515471}\n",
      "{'id': 15431174, 'score': 2, 'descendants': 0, 'type': 'story', 'by': 'dredmorbius', 'title': 'Mozilla to launch Firefox Cliqz Experiment with data collecting', 'url': 'https://www.ghacks.net/2017/10/06/mozilla-to-launch-firefox-cliqz-experiment-with-data-collecting/', 'time': 1507515362}\n",
      "{'id': 15431171, 'score': 1, 'time': 1507515310, 'descendants': 0, 'type': 'story', 'by': 'vlinx', 'title': 'A new solution to protect Java class from decompiling', 'text': 'Hello. We make an awesome tool could help to protect java class from decompiling. It&#x27;s a totally new solution, safer than obfuscation, more flexible and faster than AOT. Please visit https:&#x2F;&#x2F;j.vlinx.io to have a try.'}\n",
      "{'id': 15431170, 'score': 2, 'descendants': 0, 'type': 'story', 'by': 'mediawatch', 'title': \"The algorithm did it: Facebook's Stamos tries to shift blame\", 'url': 'https://www.itwire.com/open-sauce/80256-the-algorithm-did-it-facebook-s-stamos-tries-to-shift-blame.html', 'time': 1507515308}\n",
      "{'id': 15431121, 'score': 2, 'descendants': 1, 'type': 'story', 'kids': [15431146], 'by': 'nafizh', 'title': 'Bananapocalypse: The race to save the world’s most popular fruit', 'url': 'https://www.washingtonpost.com/national/health-science/bananapocalypse-the-race-to-save-the-worlds-most-popular-fruit/2017/10/06/bf1635ac-7d28-11e7-83c7-5bd5460f0d7e_story.html', 'time': 1507514141}\n",
      "{'id': 15431111, 'score': 6, 'time': 1507513928, 'descendants': 6, 'type': 'story', 'kids': [15431264, 15431113, 15431314, 15431152], 'by': 'arikr', 'title': \"Tell HN: If you liked 'our minds can be hijacked,' you'll like Robert Lustig\", 'text': 'I missed the discussion of the &#x27;our minds can be hijacked&#x27; thread that&#x27;s on the bottom of the homepage, but I have something that I think people interested in that topic may like.<p>Robert Lustig has written an excellent book on the topic: &quot;The Hacking of the American Mind.&quot;<p>I found that reading the book gave me good insights into how to be happier in my daily life.<p>If you&#x27;re curious, his podcast on FT Alphachat is a good introduction and summary of his ideas: https:&#x2F;&#x2F;overcast.fm&#x2F;+FaTQX2SRE'}\n",
      "{'id': 15431106, 'score': 1, 'dead': True, 'time': 1507513833, 'type': 'story', 'by': 'pavel_lishin', 'title': 'VG exposed the largest child sexual abuse forum. It was run by the police', 'url': 'https://www.vg.no/spesial/2017/undercover-darkweb/?lang=en#ingress'}\n",
      "{'id': 15431102, 'score': 12, 'descendants': 2, 'type': 'story', 'kids': [15431498], 'by': 'baristaGeek', 'title': 'Reification (Computer Science)', 'url': 'https://en.wikipedia.org/wiki/Reification_(computer_science)', 'time': 1507513722}\n",
      "{'id': 15431083, 'score': 224, 'descendants': 32, 'type': 'story', 'kids': [15431828, 15431567, 15431354, 15435466, 15431548, 15431321, 15431337, 15432009, 15431466, 15433614], 'by': 'marktangotango', 'title': 'Java at Alibaba [pdf]', 'url': 'https://jcp.org/aboutJava/communityprocess/ec-public/materials/2017-02-14/Java_at_Alibaba.pdf', 'time': 1507513345}\n",
      "{'id': 15431069, 'score': 3, 'descendants': 1, 'type': 'story', 'kids': [15431226], 'by': 'kgwgk', 'title': 'A Catalan breakaway would make Brexit look like a cake walk', 'url': 'https://www.ft.com/content/e5866c72-aaa3-11e7-ab55-27219df83c97?mhq5j=e5', 'time': 1507513066}\n",
      "{'id': 15431062, 'score': 1, 'time': 1507512994, 'descendants': 0, 'type': 'story', 'by': 'tonmoy', 'title': 'Ask HN: How can I start contributing to RISC-V open processors', 'text': 'I am a digital designer engineer by profession who is working with verilog all the time. Having done some part time rails development in the past I have deep respect for the open source community and would like to make some contributions myself. I know open source contributions do not help the career at all in my current line of work and I don’t care about that. The recent momentum in RISC-V processors has made me think this is something I could contribute on and it would give me some chance to learn some advanced computer architecture stuff as well. Any suggestions on how I could begin would be welcome, in fact suggestions on open source contributions on something completely different would be appreciated as well.'}\n",
      "{'id': 15431048, 'score': 1, 'dead': True, 'time': 1507512713, 'type': 'story', 'by': 'studioepic', 'title': 'Toronto Product Photographer', 'url': 'https://www.studioepic.com/Toronto-Product-Photographer.php'}\n",
      "{'id': 15431040, 'score': 1, 'dead': True, 'time': 1507512606, 'type': 'story', 'by': 'betcatalog', 'title': 'Βγαίνουν και άλλα εισιτήρια για το Μουντιάλ 2018', 'url': 'http://betcatalog.net/analyseis-stoiximatos/'}\n",
      "{'id': 15431035, 'score': 1, 'descendants': 0, 'type': 'story', 'by': 'sruthi_psr1', 'title': 'Show HN: Real-time knowledge browser built on spark and visualise results as graph', 'url': 'https://github.com/spoddutur/graph-knowledge-browser', 'time': 1507512554}\n",
      "{'id': 15431031, 'score': 1, 'dead': True, 'text': 'CFO Plans is an offshore outsourcing service for  Accounting&#x2F;AR&#x2F;AP&#x2F;Payroll&#x2F;Taxes. Our CEO, Gary Hewamadduma is a Sri Lanka native and the former VP of Finance for MySpace &amp; BetterWorks.<p>Gary uses his family connection back in Sri Lanka combined with cloud and financial SaaS service to outsourcing startups back-offices for a 70% cost reduction without quality loss. CFO Plans is perfect for founders bootstrapping through seed and series A funding rounds! Check us out!', 'type': 'story', 'by': 'rgross1', 'title': 'CFO Plans', 'time': 1507512470}\n",
      "{'id': 15431030, 'score': 2, 'descendants': 0, 'type': 'story', 'by': 'sruthi_psr1', 'title': 'Show HN: Spark ML Dashboard to realtime tweak model params and classify test data', 'url': 'https://github.com/spoddutur/spark-ml-dashboard', 'time': 1507512430}\n",
      "{'id': 15431027, 'score': 43, 'descendants': 19, 'type': 'story', 'kids': [15432717, 15432877, 15431918, 15432640, 15432067], 'by': 'whitehat2k9', 'title': 'Show HN: A simple SMTP proxy that bridges legacy software to modern SMTP servers', 'url': 'https://github.com/kz26/mailproxy', 'time': 1507512330}\n",
      "{'id': 15431016, 'score': 2, 'descendants': 0, 'type': 'story', 'by': 'fern12', 'title': 'Why managing physicians is like herding cats', 'url': 'http://www.kevinmd.com/blog/2017/10/managing-physicians-like-herding-cats.html', 'time': 1507512141}\n",
      "{'id': 15430982, 'score': 1, 'dead': True, 'time': 1507511585, 'type': 'story', 'by': 'Entrepreneurjay', 'title': 'Chimpanzee Rips Marketer Limb from Limb  Steals His Rolex', 'url': 'http://funnymarketer.com/chimpanzee-rips-marketer-limb-from-limb-steals-his-rolex/'}\n",
      "{'id': 15430981, 'score': 19, 'descendants': 12, 'type': 'story', 'kids': [15431906, 15431713, 15431784, 15431702], 'by': 'uladzislau', 'title': 'Russians in Silicon Valley Can’t Shake Hacking’s Shadow', 'url': 'https://www.nytimes.com/2017/10/08/technology/russian-election-hacking-silicon-valley.html', 'time': 1507511576}\n",
      "{'id': 15430977, 'score': 2, 'descendants': 0, 'type': 'story', 'by': 'ingve', 'title': 'Melinda Gates: This failure taught me a lesson I’ll never forget', 'url': 'https://www.linkedin.com/pulse/failure-taught-me-lesson-ill-never-forget-melinda-gates/?linkId=43244080', 'time': 1507511517}\n",
      "{'id': 15430969, 'score': 93, 'descendants': 197, 'type': 'story', 'kids': [15432194, 15432569, 15433534, 15431306, 15433014, 15433049, 15431379, 15432260, 15431259, 15433193, 15434425, 15434292, 15432916, 15433400, 15432030, 15431290, 15431406, 15431367, 15432835, 15431414, 15432810, 15432032, 15431537, 15431998, 15431304, 15431239, 15431293, 15432929, 15433178, 15431539, 15431403, 15432375, 15431494, 15430998, 15432411], 'by': 'johnwheeler', 'title': 'A Robot Makes a Mean Caesar Salad, but Will It Cost Jobs?', 'url': 'https://www.nytimes.com/2017/10/06/business/robot-food-cost-jobs.html?hp&action=click&pgtype=Homepage&clickSource=wide-thumb&module=mini-moth&region=top-stories-below&WT.nav=top-stories-below', 'time': 1507511381}\n",
      "{'id': 15430962, 'score': 3, 'descendants': 0, 'type': 'story', 'by': 'ingve', 'title': 'Rv8: a high performance RISC-V to x86 binary translator [pdf]', 'url': 'https://anarch128.org/~mclark/rv8-carrv.pdf', 'time': 1507511316}\n",
      "{'id': 15430959, 'score': 6, 'descendants': 0, 'type': 'story', 'by': 'samfisher83', 'title': 'Trump Digital Director: Facebook employees work[ed] every day in our offices', 'url': 'https://www.cbsnews.com/news/facebook-ads-russia-and-the-trump-campaigns-secret-weapon/', 'time': 1507511276}\n",
      "{'id': 15430955, 'score': 2, 'descendants': 0, 'type': 'story', 'by': 'samclemens', 'title': 'The Forgotten Kingpins Who Conspired to Save California Wine', 'url': 'https://www.collectorsweekly.com/articles/california-wine/', 'time': 1507511253}\n",
      "{'id': 15430953, 'score': 1, 'dead': True, 'time': 1507511237, 'type': 'story', 'by': 'ace2pace', 'title': 'iOS kill your battery life?  how to fix it', 'url': 'http://mashable.com/2017/10/06/puerto-rico-fcc-google-project-loon/#Inq6LGlJEEqc'}\n",
      "{'id': 15430939, 'score': 1, 'descendants': 0, 'type': 'story', 'by': 'sohkamyung', 'title': 'Looking inside the basset horn', 'url': 'https://www.fraunhofer.de/en/press/research-news/2017/October/looking-inside-the-basset-horn.html', 'time': 1507511009}\n",
      "{'id': 15430937, 'score': 1, 'dead': True, 'time': 1507510981, 'type': 'story', 'by': 'marketingyt', 'title': 'The First Blockchain for Education – AcademyCoin', 'url': 'https://www.youtube.com/watch?v=hSjuPbCGy5M&t=42s'}\n",
      "{'id': 15430933, 'score': 1, 'descendants': 0, 'type': 'story', 'by': 'sohkamyung', 'title': 'In praise of the humble fruit fly', 'url': 'https://www.theguardian.com/science/2016/sep/25/in-praise-of-the-humble-fruit-fly-genetics-research', 'time': 1507510931}\n",
      "{'id': 15430923, 'score': 1, 'dead': True, 'time': 1507510737, 'type': 'story', 'by': 'ace2pace', 'title': 'Data Analyst Intern at RetailNext , San Jose, CA, United States', 'url': 'http://www.studony.com/data-analyst-intern-retailnext-san-jose-ca-united-states/'}\n",
      "{'id': 15430922, 'score': 1, 'dead': True, 'text': 'I never knew hackers could improve a low credit score until i met one on a discussion forum when i googled how to improve my credit score, i read a lady’s comment on how capable the hacker is of solving any problems that has to do with hacking. So i sent him a mail and asked if he had the ability to raise credit scores(all 3 companies) and also eliminate eviction off court records. Then he replied yes and asked me to provide him some info of mine he’ll need to run the hack. when i did just that, he completed the hack within 72 hours at a price that’s worth it. I give thanks to the ethical hacker for coming to my aid when i needed him the most. Reach the hacker at spystealth &#x27;dot&#x27; org &#x27;at&#x27; gmail &#x27;dot&#x27; com and you’ll be amazed by his skills.A friend of mine shared a testimony of him working with a ethical hacker he met online and how professional he is, so i told him to introduced the hacker to me. Then i gave him a job to hack my cheating wife&#x27;s iphone because i noticed she makes secret calls and whenever i show up she ends the conversation. But unfortunately, after the hack was completed i discovered that the 8 months old baby i thought was mine was actually for another man she was still having an affair with. I&#x27;m sad but glad i discovered this at a very early stage before it gets too late. This ethical hacker is the best at what he does. I also gave a friend his contact and he is currently helping him increase his credit score and remove eviction off his record. Don&#x27;t fall for scammers, i know how it feels to actually loose your hard earned money to them, i&#x27;ve been a victim ones and i wont want that to happen to someone else. So contact this professional hacker at spystealth(dot)org(at)gmail(dot)com for issues concerning hacking. You won&#x27;t be disappointed.', 'type': 'story', 'by': 'emilage', 'title': 'IN NEED OF a ETHICAL HACKER?', 'time': 1507510735}\n",
      "{'id': 15430918, 'score': 1, 'dead': True, 'time': 1507510686, 'type': 'story', 'by': 'ace2pace', 'title': 'Facebook Core Data Science, PhD Intern , 2018', 'url': 'http://www.studony.com/facebook-core-data-science-phd-intern-2018-london-gb/'}\n",
      "{'id': 15430910, 'score': 1, 'dead': True, 'time': 1507510625, 'type': 'story', 'by': 'ace2pace', 'title': 'Sony Music Entertainment Summer Internship at RCA Inspiration, 2018', 'url': 'http://www.studony.com/sony-music-entertainment-summer-internship-rca-inspiration-2018-franklin-tn-usa/'}\n",
      "{'id': 15430901, 'score': 2, 'descendants': 0, 'type': 'story', 'by': 'curtis', 'title': 'What Puerto Rico Looked Like a Week Ago', 'url': 'https://www.theatlantic.com/photo/2017/10/what-puerto-rico-looked-like-when-trump-came-to-visit/541962/?single_page=true', 'time': 1507510505}\n",
      "{'id': 15430898, 'score': 1, 'descendants': 0, 'type': 'story', 'by': '0xbadf00d', 'title': 'Websites hacked to mint crypto-cash', 'url': 'http://www.bbc.co.uk/news/technology-41518351', 'time': 1507510448}\n",
      "{'id': 15430888, 'score': 1, 'descendants': 0, 'type': 'story', 'by': 'aryca', 'title': 'Episode 65 – Will aliens overthrow us before AI?', 'url': 'http://www.opensourcesecuritypodcast.com/2017/10/episode-65-will-aliens-overthrow-us.html', 'time': 1507510306}\n",
      "{'id': 15430854, 'score': 1, 'descendants': 0, 'type': 'story', 'by': 'sohkamyung', 'title': 'Colin Sholes: “Getting in Touch with My Past: The Typewriter Museum”', 'url': 'https://medium.com/@colinsholes/getting-in-touch-with-my-past-the-typewriter-museum-c491ced4a96', 'time': 1507509916}\n",
      "{'id': 15430838, 'score': 2, 'descendants': 1, 'type': 'story', 'kids': [15431194], 'by': 'nilved', 'title': 'JavaScript got better while I wasn’t looking', 'url': 'https://eev.ee/blog/2017/10/07/javascript-got-better-while-i-wasnt-looking/', 'time': 1507509661}\n",
      "{'id': 15430836, 'score': 1, 'dead': True, 'time': 1507509653, 'type': 'story', 'by': 'Mistatech', 'title': 'What to do after joining affiliate marketing', 'url': 'http://www.mistatech.com/2017/10/mistatech-what-to-do-after-joining.html'}\n",
      "{'id': 15430822, 'score': 1, 'dead': True, 'time': 1507509332, 'type': 'story', 'by': 'ace2pace', 'title': 'Google AI Residency Program, 2018', 'url': 'http://www.studony.com/google-ai-residency-program-2018/'}\n",
      "{'id': 15430810, 'score': 1, 'descendants': 0, 'type': 'story', 'by': 'mrborgen', 'title': 'Web Development for Kids', 'url': 'https://scrimba.com/playlist/pJJqsb', 'time': 1507509143}\n",
      "{'id': 15430796, 'score': 1, 'descendants': 0, 'type': 'story', 'by': 'Hooke', 'title': 'Mutual Interest: The Courting of Marie Curie (1923)', 'url': 'https://www.laphamsquarterly.org/lines-work/mutual-interest', 'time': 1507508931}\n",
      "{'id': 15430794, 'score': 3, 'descendants': 0, 'type': 'story', 'by': 'weatherlight', 'title': 'Why Erlang is the only true computer language', 'url': 'https://hackernoon.com/why-is-erlang-the-only-true-computer-language-4c7d1f195a02', 'time': 1507508903}\n",
      "{'id': 15430790, 'score': 1, 'descendants': 0, 'type': 'story', 'by': 'marklyon', 'title': 'Earnest, an Online Student Lender, Bought by Navient for $155M', 'url': 'https://www.forbes.com/sites/laurengensler/2017/10/04/earnest-acquired-by-navient-fintech-student-loans/', 'time': 1507508842}\n",
      "{'id': 15430787, 'score': 1, 'descendants': 0, 'type': 'story', 'by': 'FrojoS', 'title': 'My life as an undocumented immigrant (2011)', 'url': 'https://mobile.nytimes.com/2011/06/26/magazine/my-life-as-an-undocumented-immigrant.html', 'time': 1507508812}\n",
      "{'id': 15430785, 'score': 1, 'dead': True, 'time': 1507508771, 'type': 'story', 'by': 'mikeparsons', 'title': '4 Golden Rules from 20 Years of Entrepreneurship', 'url': 'http://www.mikeparsons.net/mikes-thoughts/2017/10/9/4-golden-rules-from-20-years-of-entrepreneurship'}\n",
      "{'id': 15430783, 'score': 1, 'descendants': 0, 'type': 'story', 'by': 'walterbell', 'title': 'What Happens When Fashion Becomes Fast, Disposable and Cheap?', 'url': 'http://www.npr.org/2016/04/08/473513620/what-happens-when-fashion-becomes-fast-disposable-and-cheap', 'time': 1507508756}\n",
      "{'id': 15430782, 'score': 3, 'descendants': 0, 'type': 'story', 'by': 'jadengore', 'title': \"Error handling with ES7's async/await\", 'url': 'https://bramanti.me/error-handling-javascript-es7-async-await/', 'time': 1507508755}\n",
      "{'id': 15430741, 'score': 1, 'dead': True, 'time': 1507508076, 'type': 'story', 'by': 'aholdo', 'title': '25 Top Women-Founded Startups to Watch', 'url': 'https://www.themartec.com/insidelook/25-women-founders'}\n",
      "{'id': 15430728, 'score': 43, 'time': 1507507850, 'descendants': 47, 'type': 'story', 'kids': [15430848, 15430912, 15431019, 15431149, 15431207, 15430929, 15431248, 15430949, 15431105, 15431025, 15430974, 15430886, 15431240, 15431275, 15431123, 15431224, 15431087, 15430798, 15431262, 15430859, 15431122, 15431243, 15431223, 15430834, 15431064], 'by': 'djellybeans', 'title': 'Ask HN: Your thoughts on returning to college to “refresh” a career?', 'text': 'I&#x27;m curious as to how much it helps, in particular for a software engineer. A bit about me. I&#x27;m 35, male, unemployed and unmarried (so I don&#x27;t have much financial backing) and don&#x27;t live in a tech hub. I went to a fairly standard state school for a non-STEM degree to get into web development.<p>Now I know web development can have the potential to provide a stable, well-paying career. I have not seen this much in my experience. I&#x27;ve only been contracted by very small companies for putting out fires, or for projects that they don&#x27;t want their &quot;core&quot; employees to work on. These places underpay a lot to contractors, and do not make any permanent job offers to me. My professional network is also weak. Nobody I know is looking to hire software developers. I think my reputation works against applying to large companies.<p>As for my goals, it is to work in high-performance computing, in particular with aerospace. My example: adaptive resolution grids for fluid simulations. My reality: CRUD apps and CMS websites for small-med business clients.<p>Obviously good experience and talent can overcome that, but that&#x27;s a lot easier said than done. I did not receive a lot of good experience, and see myself as a mediocre developer. So what are your thoughts about returning to college and doing it &quot;the proper way&quot;?<p>The plan is getting a CS degree at a better school, get one or more internships from reputable tech companies, build connections with people from those companies, and receive full-time job offers. There are a few stated theories made about the hiring pipelines of many of these companies, giving new grads an ironic strength.'}\n",
      "{'id': 15430714, 'score': 1, 'descendants': 0, 'type': 'story', 'by': 'cancan', 'title': 'The cyber history repeats itself', 'url': 'https://ramblingspace.com/posts/on-building-a-new-world/', 'time': 1507507603}\n",
      "{'id': 15430678, 'score': 3, 'descendants': 0, 'type': 'story', 'by': 'mayava', 'title': 'Amazon is deciding if it will make a big move into selling drugs online', 'url': 'http://www.msn.com/en-us/money/companies/amazon-is-on-the-brink-of-deciding-if-it-will-make-a-big-move-into-selling-drugs-online/ar-AAsZXbj', 'time': 1507506843}\n",
      "{'id': 15430668, 'score': 64, 'descendants': 46, 'type': 'story', 'kids': [15431782, 15431735, 15431142, 15431754, 15431266, 15431526, 15432046, 15434619, 15431812, 15431445, 15433526, 15431459, 15432107, 15431316, 15431925, 15431793, 15432162], 'by': 'mbgaxyz', 'title': 'Is Zcash’s encrypted blockchain Satoshi’s vision?', 'url': 'https://cryptopotato.com/zcashs-encrypted-blockchain-satoshis-vision-interview-zooko/', 'time': 1507506682}\n",
      "{'id': 15430657, 'score': 1, 'descendants': 0, 'type': 'story', 'by': 'JoshTriplett', 'title': 'Interview with Aubrey de Grey', 'url': 'https://masterinvestor.co.uk/magazine/#dflip-65876/20/', 'time': 1507506469}\n",
      "{'id': 15430656, 'score': 1, 'descendants': 0, 'type': 'story', 'by': 'Cozumel', 'title': 'Whatever Happened to “Due Process”? (2013)', 'url': 'https://www.easydns.com/blog/2013/10/08/whatever-happened-to-due-process/', 'time': 1507506464}\n",
      "{'id': 15430653, 'score': 199, 'descendants': 91, 'type': 'story', 'kids': [15431251, 15431015, 15431525, 15431092, 15432369, 15431128, 15434160, 15431900, 15432841, 15431429, 15433187, 15432778, 15431823, 15431441], 'by': 'johnny313', 'title': 'In 1973, I invented Baileys', 'url': 'https://www.irishtimes.com/culture/books/in-1973-i-invented-a-girly-drink-called-baileys-1.3240945?mode=amp', 'time': 1507506448}\n",
      "{'id': 15430628, 'score': 1, 'descendants': 0, 'type': 'story', 'by': 'vinchuco', 'title': 'Can We Trust Opinion Polls?', 'url': 'https://www.youtube.com/watch?v=xa39G3aNPfo', 'time': 1507505835}\n",
      "{'id': 15430561, 'score': 7, 'time': 1507504483, 'descendants': 2, 'type': 'story', 'kids': [15432824, 15431665], 'by': 'dpgowan', 'title': 'Ask HN: What useful serverside software used to replace third-party providers?', 'text': 'I am looking for some useful software to install on my VPS to replace third-party providers.<p>Examples: Download Ticket Service: DL, OwnCloud, etc.'}\n",
      "{'id': 15430549, 'score': 1, 'dead': True, 'time': 1507504145, 'type': 'story', 'by': 'catfights', 'title': 'Chubby tattooed lesbians by snahbrandy', 'url': 'http://xxxbunker.com/chubby_tattooed_lesbians_by_snahbrandy#.WdqwDn8VEkM.hackernews'}\n",
      "{'id': 15430547, 'score': 2, 'descendants': 0, 'type': 'story', 'by': 'mabynogy', 'title': 'ART – Adaptive Reuse Technique', 'url': 'http://art-processor.org/', 'time': 1507504118}\n",
      "{'id': 15430536, 'score': 1, 'descendants': 0, 'type': 'story', 'by': 'Immortalin', 'title': 'Ubuntu Budgie', 'url': 'https://ubuntubudgie.org/', 'time': 1507503992}\n"
     ]
    }
   ],
   "source": [
    "for i in range(max_id, 0, -1):\n",
    "    res = json.loads(requests.get(API_URL.format(i)).text)\n",
    "\n",
    "    if res['type'] != 'story' or res.get('deleted'):\n",
    "        continue\n",
    "    if datetime.fromtimestamp(res['time']) < datetime.now() - timedelta(days=7):\n",
    "        break\n",
    "        \n",
    "    print(res)\n",
    "    comments = []\n",
    "    traverse_comments(res.get('kids'), comments)\n",
    "\n",
    "    data[res['id']] = {\n",
    "        'score': res['score'],\n",
    "        'url': res.get('url') if res.get('url') else None,\n",
    "        'time': str(datetime.fromtimestamp(res['time'])),\n",
    "        'text': res.get('text') if not res.get('url') else get_text(res['url']),\n",
    "        'comments': comments\n",
    "    }\n"
   ]
  },
  {
   "cell_type": "code",
   "execution_count": null,
   "metadata": {
    "collapsed": true
   },
   "outputs": [],
   "source": []
  }
 ],
 "metadata": {
  "kernelspec": {
   "display_name": "Python 3",
   "language": "python",
   "name": "python3"
  },
  "language_info": {
   "codemirror_mode": {
    "name": "ipython",
    "version": 3
   },
   "file_extension": ".py",
   "mimetype": "text/x-python",
   "name": "python",
   "nbconvert_exporter": "python",
   "pygments_lexer": "ipython3",
   "version": "3.5.2"
  }
 },
 "nbformat": 4,
 "nbformat_minor": 2
}
