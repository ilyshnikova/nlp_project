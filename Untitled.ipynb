{
 "cells": [
  {
   "cell_type": "code",
   "execution_count": 7,
   "metadata": {
    "collapsed": true
   },
   "outputs": [],
   "source": [
    "import requests\n",
    "import json\n",
    "\n",
    "from datetime import datetime, timedelta\n",
    "from readability import Document"
   ]
  },
  {
   "cell_type": "code",
   "execution_count": 39,
   "metadata": {
    "collapsed": false
   },
   "outputs": [],
   "source": [
    "API_URL = 'https://hacker-news.firebaseio.com/v0/item/{}.json?print=pretty'\n",
    "res = requests.get('https://hacker-news.firebaseio.com/v0/maxitem.json?print=pretty')\n",
    "max_id = int(res.text)"
   ]
  },
  {
   "cell_type": "code",
   "execution_count": 10,
   "metadata": {
    "collapsed": true
   },
   "outputs": [],
   "source": [
    "data = dict()"
   ]
  },
  {
   "cell_type": "code",
   "execution_count": 56,
   "metadata": {
    "collapsed": true
   },
   "outputs": [],
   "source": [
    "def traverse_comments(ids, result):\n",
    "    if not ids:\n",
    "        return\n",
    "    for id in ids:\n",
    "        res = json.loads(requests.get(API_URL.format(id)).text)\n",
    "        if not res.get('deleted'):\n",
    "            result.append(res['text'])\n",
    "        traverse_comments(res.get('kids'), result)\n"
   ]
  },
  {
   "cell_type": "code",
   "execution_count": 67,
   "metadata": {
    "collapsed": true
   },
   "outputs": [],
   "source": [
    "def get_text(url):\n",
    "    try:\n",
    "        return Document(requests.get(url).text).summary()\n",
    "    except Exception:\n",
    "        return 'UNAVAILABLE TEXT BY URL {}'.format(url)\n",
    "    "
   ]
  },
  {
   "cell_type": "code",
   "execution_count": null,
   "metadata": {
    "collapsed": false
   },
   "outputs": [
    {
     "name": "stdout",
     "output_type": "stream",
     "text": [
      "{'id': 15431350, 'score': 3, 'descendants': 0, 'type': 'story', 'by': 'yabatopia', 'title': 'Tech companies are embarrassing themselves with how they handle fake news', 'url': 'http://www.businessinsider.com/tech-companies-are-embarrassing-themselves-with-how-they-handle-fake-news-2017-10', 'time': 1507518762}\n",
      "{'id': 15431347, 'score': 1, 'dead': True, 'time': 1507518670, 'type': 'story', 'by': 'azamsharp123', 'title': 'Grab a copy of *free* ARKit development book', 'url': 'https://gum.co/QOIq/ilovear'}\n",
      "{'id': 15431331, 'score': 2, 'descendants': 0, 'type': 'story', 'by': 'tsaoutourpants', 'title': 'YouTube Removes Videos Showing Legal “Bump Stocks” After Vegas Shooting', 'url': 'https://professional-troublemaker.com/2017/10/08/youtube-removes-gun-videos-showing-legal-bump-stocks-after-vegas-shooting/', 'time': 1507518386}\n",
      "{'id': 15431330, 'score': 2, 'descendants': 0, 'type': 'story', 'by': 'dvt', 'title': 'Create a Forum Engine in 15 Minutes Using Meteor and AngularJS', 'url': 'https://www.codementor.io/tibi/build-forum-engine-using-meteor-angularjs-du107z6nu', 'time': 1507518381}\n",
      "{'id': 15431327, 'score': 2, 'dead': True, 'time': 1507518289, 'type': 'story', 'kids': [15431518], 'by': 'DLay', 'title': 'After the check is gone', 'url': 'http://www.washingtonpost.com/sf/local/2017/10/06/her-disability-check-was-gone-and-now-the-only-option-left-was-also-one-of-the-worst/?tid=sm_tw&utm_term=.edc1b277791b'}\n",
      "{'id': 15431325, 'score': 1, 'descendants': 0, 'type': 'story', 'by': 'justinucd', 'title': 'The crypto nightmare to come', 'url': 'https://hackernoon.com/the-crypto-nightmare-to-come-17b985271ef9', 'time': 1507518236}\n",
      "{'id': 15431317, 'score': 5, 'descendants': 1, 'type': 'story', 'kids': [15431484], 'by': 'ajschrier', 'title': 'Is it true that iPhones get slower over time?', 'url': 'https://www.futuremark.com/pressreleases/is-it-true-that-iphones-get-slower-over-time', 'time': 1507518018}\n",
      "{'id': 15431308, 'score': 3, 'descendants': 0, 'type': 'story', 'by': 'bfung', 'title': 'Why Aren’t Wages Rising Faster Now That Unemployment Is Lower?', 'url': 'https://www.nytimes.com/interactive/2017/10/07/business/wages-versus-unemployment.html?mabReward=ART_ACTM2&recid=0ugw7AAciMITcWhiCkY1hqdfgwc&recp=0&moduleDetail=recommendations-0&action=click&contentCollection=Business%20Day&region=Footer&module=WhatsNext&version=WhatsNext&contentID=WhatsNext&src=recg&pgtype=article', 'time': 1507517982}\n",
      "{'id': 15431297, 'score': 1, 'descendants': 0, 'type': 'story', 'by': 'jinqueeny', 'title': 'Curing the incurable', 'url': 'https://techcrunch.com/2017/10/08/curing-the-incurable/', 'time': 1507517827}\n",
      "{'id': 15431288, 'score': 1, 'dead': True, 'time': 1507517665, 'type': 'story', 'by': 'Golangprograms', 'title': 'Go programing language', 'url': 'http://www.golangprograms.com/go-language.html'}\n",
      "{'id': 15431276, 'score': 1, 'dead': True, 'text': 'We applied a week before the deadline. Our video has had no views, and there are no hits to our website. Is this indicative? I would be interested to hear other other applicants results', 'type': 'story', 'by': 'luca343g', 'title': 'Ask HN: Has your YC application had any views/hits', 'time': 1507517476}\n",
      "{'id': 15431270, 'score': 1, 'dead': True, 'time': 1507517350, 'type': 'story', 'by': 'dvdfabbookmark', 'title': 'Best Blu-Ray Creators with GPU Acceleration', 'url': 'https://www.dvdfab.cn/resource/dvd/best-blu-ray-creators-with-gpu-acceleration'}\n"
     ]
    }
   ],
   "source": [
    "for i in range(max_id, 0, -1):\n",
    "    res = json.loads(requests.get(API_URL.format(i)).text)\n",
    "\n",
    "    if res.get('type') != 'story' or res.get('deleted'):\n",
    "        continue\n",
    "    if datetime.fromtimestamp(res['time']) < datetime.now() - timedelta(days=1):\n",
    "        break\n",
    "        \n",
    "    print(res)\n",
    "    comments = []\n",
    "    traverse_comments(res.get('kids'), comments)\n",
    "\n",
    "    data[res['id']] = {\n",
    "        'score': res['score'],\n",
    "        'url': res.get('url') if res.get('url') else None,\n",
    "        'time': str(datetime.fromtimestamp(res['time'])),\n",
    "        'text': res.get('text') if not res.get('url') else get_text(res['url']),\n",
    "        'comments': comments\n",
    "    }\n"
   ]
  },
  {
   "cell_type": "code",
   "execution_count": null,
   "metadata": {
    "collapsed": true
   },
   "outputs": [],
   "source": []
  }
 ],
 "metadata": {
  "kernelspec": {
   "display_name": "Python 3",
   "language": "python",
   "name": "python3"
  },
  "language_info": {
   "codemirror_mode": {
    "name": "ipython",
    "version": 3
   },
   "file_extension": ".py",
   "mimetype": "text/x-python",
   "name": "python",
   "nbconvert_exporter": "python",
   "pygments_lexer": "ipython3",
   "version": "3.5.2"
  }
 },
 "nbformat": 4,
 "nbformat_minor": 2
}
